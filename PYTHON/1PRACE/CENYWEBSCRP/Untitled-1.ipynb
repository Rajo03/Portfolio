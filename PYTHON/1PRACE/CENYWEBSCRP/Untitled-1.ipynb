{
 "cells": [
  {
   "cell_type": "code",
   "execution_count": 1,
   "metadata": {},
   "outputs": [],
   "source": [
    "from datetime import datetime\n",
    "import sqlite3\n",
    "import time\n",
    "import sys\n",
    "from bs4 import BeautifulSoup\n",
    "import requests\n",
    "import smtplib\n",
    "from email.mime.multipart import MIMEMultipart\n",
    "from email.mime.text import MIMEText\n",
    "import schedule\n",
    "\n",
    "# send a request to fetch HTML of the page\n",
    "response = requests.get('https://bitcoin.pl/wiadomosci')\n",
    "\n",
    "# create the soup object\n",
    "soup = BeautifulSoup(response.text, 'html.parser')\n",
    "\n",
    "# change the encoding to utf-8\n",
    "soup.encode('utf-8')\n",
    "\n",
    "\n",
    "def check_head():\n",
    "  \n",
    "  naglowki = soup.find_all('h2',attrs={'class':'relative text-sm font-semibold text-white group-hover:text-orange-400 transition'})\n",
    "  for  naglowki in soup.find_all('h2',attrs={'class':'relative text-sm font-semibold text-white group-hover:text-orange-400 transition'}):\n",
    "    print (naglowki.text, \"\\n\")\n",
    "    \n",
    "  b = 3\n",
    "  if (b>1):\n",
    "    send_mail()\n",
    "  else:\n",
    "    print(\"puste\")\n",
    "  \n",
    "  \n",
    "\n",
    "# function that sends an email if the prices fell down\n",
    "def send_mail():\n",
    "  server = smtplib.SMTP('smtp.gmail.com', 587)\n",
    "  server.ehlo()\n",
    "  server.starttls()\n",
    "  server.ehlo()\n",
    "\n",
    "  server.login('faptribute987@gmail.com', 'tyhuju03')\n",
    "\n",
    "\n",
    "  body = \"Dzisiejsze newsy2 https://bitcoin.pl/wiadomosci\"\n",
    "\n",
    "  \n",
    "  msg = MIMEMultipart()\n",
    "  msg['From'] = 'Paliwo'\n",
    "  msg['To'] = 'faptribute987@gmail.com'\n",
    "  msg['Subject']= \"Dzisiejsze newsy\"\n",
    "  msg.attach(MIMEText(body, 'plain'))\n",
    "  \n",
    "  server.sendmail(\n",
    "    'sender@gmail.com',\n",
    "    'faptribute987@gmail.com',\n",
    "    msg.as_string()\n",
    "  )\n",
    "  #print a message to check if the email has been sent\n",
    "  print('Hey Email has been sent')\n",
    "  # quit the server\n",
    "  server.quit()\n",
    "\n",
    "#loop that allows the program to regularly check for prices\n",
    "\n"
   ]
  }
 ],
 "metadata": {
  "kernelspec": {
   "display_name": "Python 3.9.13 ('.venv': venv)",
   "language": "python",
   "name": "python3"
  },
  "language_info": {
   "codemirror_mode": {
    "name": "ipython",
    "version": 3
   },
   "file_extension": ".py",
   "mimetype": "text/x-python",
   "name": "python",
   "nbconvert_exporter": "python",
   "pygments_lexer": "ipython3",
   "version": "3.9.13"
  },
  "orig_nbformat": 4,
  "vscode": {
   "interpreter": {
    "hash": "04e622dbfbfb285aa247af57c7fe4a8c95897cfce30594f1fe379f0b91e885b0"
   }
  }
 },
 "nbformat": 4,
 "nbformat_minor": 2
}
