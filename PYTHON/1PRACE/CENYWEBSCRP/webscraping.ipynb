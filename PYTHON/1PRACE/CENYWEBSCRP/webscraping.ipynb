{
 "cells": [
  {
   "cell_type": "code",
   "execution_count": 4,
   "metadata": {},
   "outputs": [],
   "source": [
    "import time\n",
    "import sys\n",
    "from bs4 import BeautifulSoup\n",
    "import requests\n",
    "\n",
    "\n",
    "try:\n",
    "    page = requests.get('https://www.amazon.pl/Garmin-Fenix-multisportowy-zegarek-czarny/dp/B07W2Z2ZS1?ref_=Oct_d_obs_d_20788343031&pd_rd_w=Qw1OR&pf_rd_p=f3c0087e-c101-4b01-8657-8ee971af1154&pf_rd_r=PKHPCZGA4WW4192F8RRE&pd_rd_r=8bd5f171-8878-4ce1-9f33-8d5eb4625bb2&pd_rd_wg=oZ5tp&pd_rd_i=B07W2Z2ZS1')\n",
    "    \n",
    "except Exception as e:\n",
    "    error_type, error_obj, error_info = sys.exc_info()\n",
    "    print ('error')\n",
    "    print (error_type, 'line', error_info.tb_lineo)\n",
    "    \n",
    "time.sleep(1)\n",
    "\n",
    "soup = BeautifulSoup(page.text,'html.parser')\n",
    "dane = soup.find_all('span',attrs={'class':'a-size-base a-color-price'})"
   ]
  },
  {
   "cell_type": "code",
   "execution_count": 5,
   "metadata": {},
   "outputs": [
    {
     "name": "stdout",
     "output_type": "stream",
     "text": [
      "[<span class=\"a-size-base a-color-price\">2 249,66 zł</span>, <span class=\"a-size-base a-color-price\">3 699,00 zł</span>, <span class=\"a-size-base a-color-price\"><span class=\"_p13n-desktop-sims-fbt_price_p13n-sc-price__bCZQt\">2249,66 zł</span></span>, <span class=\"a-size-base a-color-price\"><span class=\"_p13n-desktop-sims-fbt_price_p13n-sc-price__bCZQt\">63,90 zł</span></span>, <span class=\"a-size-base a-color-price\"><span class=\"_p13n-desktop-sims-fbt_price_p13n-sc-price__bCZQt\">28,48 zł</span></span>]\n"
     ]
    }
   ],
   "source": [
    "print(dane)"
   ]
  },
  {
   "cell_type": "code",
   "execution_count": 6,
   "metadata": {},
   "outputs": [
    {
     "name": "stdout",
     "output_type": "stream",
     "text": [
      "2 249,66 zł\n",
      "\n",
      "\n",
      "3 699,00 zł\n",
      "\n",
      "\n",
      "2249,66 zł\n",
      "\n",
      "\n",
      "63,90 zł\n",
      "\n",
      "\n",
      "28,48 zł\n",
      "\n",
      "\n"
     ]
    }
   ],
   "source": [
    "for i in dane:\n",
    "    print (i.text)\n",
    "    print(\"\\n\")"
   ]
  }
 ],
 "metadata": {
  "interpreter": {
   "hash": "6dc79257ecd73ab5d6390783bcddd768c0bb8ef5c95fba81d0f0e8b582ea3f25"
  },
  "kernelspec": {
   "display_name": "Python 3.10.4 ('.venv': venv)",
   "language": "python",
   "name": "python3"
  },
  "language_info": {
   "codemirror_mode": {
    "name": "ipython",
    "version": 3
   },
   "file_extension": ".py",
   "mimetype": "text/x-python",
   "name": "python",
   "nbconvert_exporter": "python",
   "pygments_lexer": "ipython3",
   "version": "3.10.4"
  },
  "orig_nbformat": 4
 },
 "nbformat": 4,
 "nbformat_minor": 2
}
