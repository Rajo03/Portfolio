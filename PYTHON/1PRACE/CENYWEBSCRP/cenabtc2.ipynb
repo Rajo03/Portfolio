{
 "cells": [
  {
   "cell_type": "code",
   "execution_count": 2,
   "metadata": {},
   "outputs": [
    {
     "ename": "AttributeError",
     "evalue": "ResultSet object has no attribute 'text'. You're probably treating a list of elements like a single element. Did you call find_all() when you meant to call find()?",
     "output_type": "error",
     "traceback": [
      "\u001b[1;31m---------------------------------------------------------------------------\u001b[0m",
      "\u001b[1;31mAttributeError\u001b[0m                            Traceback (most recent call last)",
      "\u001b[1;32md:\\PYTHON\\1PRACE\\CENYWEBSCRP\\cenabtc2.ipynb Cell 1'\u001b[0m in \u001b[0;36m<cell line: 27>\u001b[1;34m()\u001b[0m\n\u001b[0;32m     <a href='vscode-notebook-cell:/d%3A/PYTHON/1PRACE/CENYWEBSCRP/cenabtc2.ipynb#ch0000000?line=23'>24</a>\u001b[0m     \u001b[39mprint\u001b[39m(\u001b[39m'\u001b[39m\u001b[39mCena bitcoina\u001b[39m\u001b[39m'\u001b[39m, dane\u001b[39m.\u001b[39mtext, \u001b[39m'\u001b[39m\u001b[39mzł\u001b[39m\u001b[39m'\u001b[39m)\n\u001b[0;32m     <a href='vscode-notebook-cell:/d%3A/PYTHON/1PRACE/CENYWEBSCRP/cenabtc2.ipynb#ch0000000?line=25'>26</a>\u001b[0m \u001b[39mwhile\u001b[39;00m(\u001b[39mTrue\u001b[39;00m):\n\u001b[1;32m---> <a href='vscode-notebook-cell:/d%3A/PYTHON/1PRACE/CENYWEBSCRP/cenabtc2.ipynb#ch0000000?line=26'>27</a>\u001b[0m  cena_data()\n\u001b[0;32m     <a href='vscode-notebook-cell:/d%3A/PYTHON/1PRACE/CENYWEBSCRP/cenabtc2.ipynb#ch0000000?line=27'>28</a>\u001b[0m  time\u001b[39m.\u001b[39msleep(\u001b[39m60\u001b[39m)\n",
      "\u001b[1;32md:\\PYTHON\\1PRACE\\CENYWEBSCRP\\cenabtc2.ipynb Cell 1'\u001b[0m in \u001b[0;36mcena_data\u001b[1;34m()\u001b[0m\n\u001b[0;32m     <a href='vscode-notebook-cell:/d%3A/PYTHON/1PRACE/CENYWEBSCRP/cenabtc2.ipynb#ch0000000?line=20'>21</a>\u001b[0m \u001b[39mdef\u001b[39;00m \u001b[39mcena_data\u001b[39m():\n\u001b[0;32m     <a href='vscode-notebook-cell:/d%3A/PYTHON/1PRACE/CENYWEBSCRP/cenabtc2.ipynb#ch0000000?line=21'>22</a>\u001b[0m     requests\u001b[39m.\u001b[39mget(\u001b[39m'\u001b[39m\u001b[39mhttps://e-kursy-walut.pl/kurs-bitcoin/\u001b[39m\u001b[39m'\u001b[39m)\n\u001b[1;32m---> <a href='vscode-notebook-cell:/d%3A/PYTHON/1PRACE/CENYWEBSCRP/cenabtc2.ipynb#ch0000000?line=22'>23</a>\u001b[0m     \u001b[39mprint\u001b[39m(\u001b[39m\"\u001b[39m\u001b[39mData\u001b[39m\u001b[39m\"\u001b[39m,dane2\u001b[39m.\u001b[39;49mtext)  \n\u001b[0;32m     <a href='vscode-notebook-cell:/d%3A/PYTHON/1PRACE/CENYWEBSCRP/cenabtc2.ipynb#ch0000000?line=23'>24</a>\u001b[0m     \u001b[39mprint\u001b[39m(\u001b[39m'\u001b[39m\u001b[39mCena bitcoina\u001b[39m\u001b[39m'\u001b[39m, dane\u001b[39m.\u001b[39mtext, \u001b[39m'\u001b[39m\u001b[39mzł\u001b[39m\u001b[39m'\u001b[39m)\n",
      "File \u001b[1;32md:\\PYTHON\\.venv\\lib\\site-packages\\bs4\\element.py:2289\u001b[0m, in \u001b[0;36mResultSet.__getattr__\u001b[1;34m(self, key)\u001b[0m\n\u001b[0;32m   2287\u001b[0m \u001b[39mdef\u001b[39;00m \u001b[39m__getattr__\u001b[39m(\u001b[39mself\u001b[39m, key):\n\u001b[0;32m   2288\u001b[0m     \u001b[39m\"\"\"Raise a helpful exception to explain a common code fix.\"\"\"\u001b[39;00m\n\u001b[1;32m-> 2289\u001b[0m     \u001b[39mraise\u001b[39;00m \u001b[39mAttributeError\u001b[39;00m(\n\u001b[0;32m   2290\u001b[0m         \u001b[39m\"\u001b[39m\u001b[39mResultSet object has no attribute \u001b[39m\u001b[39m'\u001b[39m\u001b[39m%s\u001b[39;00m\u001b[39m'\u001b[39m\u001b[39m. You\u001b[39m\u001b[39m'\u001b[39m\u001b[39mre probably treating a list of elements like a single element. Did you call find_all() when you meant to call find()?\u001b[39m\u001b[39m\"\u001b[39m \u001b[39m%\u001b[39m key\n\u001b[0;32m   2291\u001b[0m     )\n",
      "\u001b[1;31mAttributeError\u001b[0m: ResultSet object has no attribute 'text'. You're probably treating a list of elements like a single element. Did you call find_all() when you meant to call find()?"
     ]
    }
   ],
   "source": [
    "import time\n",
    "import sys\n",
    "from bs4 import BeautifulSoup\n",
    "import requests\n",
    "\n",
    "page = requests.get('https://e-kursy-walut.pl/kurs-bitcoin/')\n",
    "\n",
    "#except Exception as e:\n",
    "  #error_type, error_obj, error_info = sys.exc_info()\n",
    "  #print ('error')\n",
    "#print (error_type, 'line', error_info.tb_lineo)\n",
    "\n",
    "time.sleep(2)\n",
    "\n",
    "\n",
    "soup = BeautifulSoup(page.text,'html.parser')\n",
    "dane = soup.find_all('span',attrs={'itemprop':'price'})\n",
    "dane2 = soup.find_all('span',attrs={'itemprop':'releaseDate'})\n",
    "\n",
    "\n",
    "def cena_data():\n",
    "    requests.get('https://e-kursy-walut.pl/kurs-bitcoin/')\n",
    "    print(\"Data\",dane2.text)  \n",
    "    print('Cena bitcoina', dane.text, 'zł')\n",
    "    \n",
    "while(True):\n",
    " cena_data()\n",
    " time.sleep(60)"
   ]
  },
  {
   "cell_type": "code",
   "execution_count": null,
   "metadata": {},
   "outputs": [
    {
     "data": {
      "text/plain": [
       "<Response [200]>"
      ]
     },
     "execution_count": 15,
     "metadata": {},
     "output_type": "execute_result"
    }
   ],
   "source": [
    "page"
   ]
  },
  {
   "cell_type": "code",
   "execution_count": null,
   "metadata": {},
   "outputs": [],
   "source": [
    "def cena_data():\n",
    "    requests.get('https://e-kursy-walut.pl/kurs-bitcoin/')\n",
    "    print(\"Data\",dane2.text)  \n",
    "    print('Cena bitcoina', dane.text, 'zł')\n",
    "    \n",
    "while(True):\n",
    " cena_data()\n",
    " time.sleep(60)"
   ]
  }
 ],
 "metadata": {
  "interpreter": {
   "hash": "04e622dbfbfb285aa247af57c7fe4a8c95897cfce30594f1fe379f0b91e885b0"
  },
  "kernelspec": {
   "display_name": "Python 3.9.13 ('.venv': venv)",
   "language": "python",
   "name": "python3"
  },
  "language_info": {
   "codemirror_mode": {
    "name": "ipython",
    "version": 3
   },
   "file_extension": ".py",
   "mimetype": "text/x-python",
   "name": "python",
   "nbconvert_exporter": "python",
   "pygments_lexer": "ipython3",
   "version": "3.9.13"
  },
  "orig_nbformat": 4
 },
 "nbformat": 4,
 "nbformat_minor": 2
}
