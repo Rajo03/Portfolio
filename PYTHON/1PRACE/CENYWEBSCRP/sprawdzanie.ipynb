{
 "cells": [
  {
   "cell_type": "code",
   "execution_count": 1,
   "metadata": {},
   "outputs": [
    {
     "name": "stdout",
     "output_type": "stream",
     "text": [
      "<Response [200]>\n"
     ]
    }
   ],
   "source": [
    "import requests\n",
    "\n",
    "from bs4 import BeautifulSoup \n",
    "\n",
    "r=requests.get(\"https://sklep.tauron.pl\")\n",
    "\n",
    "r.status_code\n",
    "print(r)"
   ]
  }
 ],
 "metadata": {
  "kernelspec": {
   "display_name": "Python 3.9.13 ('.venv': venv)",
   "language": "python",
   "name": "python3"
  },
  "language_info": {
   "codemirror_mode": {
    "name": "ipython",
    "version": 3
   },
   "file_extension": ".py",
   "mimetype": "text/x-python",
   "name": "python",
   "nbconvert_exporter": "python",
   "pygments_lexer": "ipython3",
   "version": "3.11.3"
  },
  "orig_nbformat": 4,
  "vscode": {
   "interpreter": {
    "hash": "04e622dbfbfb285aa247af57c7fe4a8c95897cfce30594f1fe379f0b91e885b0"
   }
  }
 },
 "nbformat": 4,
 "nbformat_minor": 2
}
