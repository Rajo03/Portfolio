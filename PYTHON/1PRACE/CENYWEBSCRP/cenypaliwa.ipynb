{
 "cells": [
  {
   "cell_type": "code",
   "execution_count": 6,
   "metadata": {},
   "outputs": [],
   "source": [
    "from datetime import datetime\n",
    "import sqlite3\n",
    "import time\n",
    "import sys\n",
    "from bs4 import BeautifulSoup\n",
    "import requests\n",
    "import smtplib\n",
    "from email.mime.multipart import MIMEMultipart\n",
    "from email.mime.text import MIMEText\n",
    "import schedule\n",
    "\n",
    "try:\n",
    "    page = requests.get('https://www.autocentrum.pl/paliwa/ceny-paliw/slaskie/') #ceny\n",
    "    page2 = requests.get('https://www.e-petrol.pl/notowania/rynek-krajowy/hurt') #hurt_ceny\n",
    "    page3 = requests.get('https://www.bankier.pl/inwestowanie/profile/quote.html?symbol=ROPA')\n",
    "except Exception as e:\n",
    "    error_type, error_obj, error_info = sys.exc_info()\n",
    "    print ('error')\n",
    "    print (error_type, 'line', error_info.tb_lineo)\n",
    "    \n",
    "time.sleep(1)\n",
    "\n",
    "soup = BeautifulSoup(page.text,'html.parser')\n",
    "soup2 = BeautifulSoup(page2.text,'html.parser')\n",
    "soup3 = BeautifulSoup(page3.text,'html.parser')\n",
    "\n",
    "#cena w zł na śląsku\n",
    "benzyna_95 = soup.find('div',attrs={'class':'price'})\n",
    "diesiel = soup.find('a',attrs={'href':'/paliwa/ceny-paliw/slaskie/on/'})\n",
    "\n",
    "#hurtowe ceny benzyny95\n",
    "hurt_95 = soup2.find(\"div\",  text=\" Pb 95\")\n",
    "hurt_95_cena = soup2.find('div',attrs={'class':'col pb95'})\n",
    "\n",
    "#hurtowe ceny diesiel\n",
    "hurt_ON = soup2.find(\"div\",  text=\" ON\")\n",
    "hurt_ON_cena = soup2.find('div',attrs={'class':'col one'})\n",
    "\n",
    "#ceny ropy\n",
    "Ropa = soup3.find('div',attrs={'class':'profilLast'})\n"
   ]
  },
  {
   "cell_type": "code",
   "execution_count": 7,
   "metadata": {},
   "outputs": [
    {
     "name": "stdout",
     "output_type": "stream",
     "text": [
      "Benzyna95\n",
      " \n",
      "                                                    7,15\n",
      "                            zł\n",
      "\n",
      "Diesiel\n",
      " \n",
      "ON\n",
      "\n",
      "                                                    7,48\n",
      "                            zł\n",
      "\n",
      "\n",
      "HurtoweCeny\n",
      "  Pb 95 6497 zł/m3\n",
      " ON - 6895 zł/m3\n"
     ]
    }
   ],
   "source": [
    "#CENY PALIWA I CENY HURTOWE\n",
    "print(\"Benzyna95\\n\",benzyna_95.text)\n",
    "print(\"Diesiel\\n\",diesiel.text)\n",
    "print(\"HurtoweCeny\\n\",  hurt_95.text, hurt_95_cena.text,  \"zł/m3\")\n",
    "\n",
    "print(hurt_ON.text,\"-\", hurt_ON_cena.text, \"zł/m3\")\n",
    "\n",
    "\n"
   ]
  },
  {
   "cell_type": "code",
   "execution_count": 8,
   "metadata": {},
   "outputs": [
    {
     "name": "stdout",
     "output_type": "stream",
     "text": [
      "103,98 USD/baryÅka\n"
     ]
    }
   ],
   "source": [
    "print(Ropa.text)"
   ]
  },
  {
   "cell_type": "code",
   "execution_count": 9,
   "metadata": {},
   "outputs": [],
   "source": [
    "#BAZA DANYCH\n",
    "\n",
    "conn = sqlite3.connect('cenypaliwo.db')\n",
    "\n",
    "c = conn.cursor()\n",
    "\n",
    "#c.execute(' ' ' CREATE TABLE paliwodiesel (rodzaj TEXT, cena TEXT, data TEXT) ' ' ')\n",
    "\n",
    "#TABELA DIESEL\n",
    "rodzaj = 'Diesel'\n",
    "cena = diesiel.text\n",
    "data = datetime.now()\n",
    "c.execute(' ' ' INSERT INTO  paliwodiesel VALUES (?, ?,?) ' ' ',  (rodzaj, cena, data))\n",
    "\n",
    "#TABELA BENZYNA\n",
    "rodzaj2 = 'Benzyna95'\n",
    "cena2 = benzyna_95.text\n",
    "data2 = datetime.now()\n",
    "c.execute(' ' ' INSERT INTO  paliwo95 VALUES (?, ?,?) ' ' ',  (rodzaj2, cena2, data2))\n",
    "\n",
    "\n",
    "\n",
    "\n",
    "\n",
    "\n",
    "#c.execute(' ' ' DELETE FROM paliwo95 WHERE rodzaj=Diesel ;' ' ')\n",
    "conn.commit()"
   ]
  },
  {
   "cell_type": "code",
   "execution_count": 10,
   "metadata": {},
   "outputs": [],
   "source": [
    "\n",
    "\n",
    "# send a request to fetch HTML of the page\n",
    "response = requests.get('https://www.autocentrum.pl/paliwa/ceny-paliw/slaskie/')\n",
    "\n",
    "# create the soup object\n",
    "soup = BeautifulSoup(response.text, 'html.parser')\n",
    "\n",
    "# change the encoding to utf-8\n",
    "soup.encode('utf-8')\n",
    "\n",
    "\n",
    "def check_price():\n",
    "  benzyna_95 = \"benzyna\"\n",
    "  price = soup.find('div',attrs={'class':'price'})\n",
    "  print(price)\n",
    "\n",
    "  #converting the string amount to float\n",
    "  converted_price = price\n",
    "  print(converted_price)\n",
    "  if(converted_price >0):\n",
    "    send_mail()\n",
    "\n",
    "  #using strip to remove extra spaces in the title\n",
    "  print(benzyna_95.strip())\n",
    "\n",
    "\n",
    "\n",
    "\n",
    "\n",
    "# function that sends an email if the prices fell down\n",
    "def send_mail():\n",
    "  server = smtplib.SMTP('smtp.gmail.com', 587)\n",
    "  server.ehlo()\n",
    "  server.starttls()\n",
    "  server.ehlo()\n",
    "\n",
    "  server.login('faptribute987@gmail.com', 'tyhuju03')\n",
    "\n",
    "\n",
    "  body = \"Cena paliwa spadła na 6,48 https://www.autocentrum.pl/paliwa/ceny-paliw/slaskie/ \"\n",
    "\n",
    "  \n",
    "  msg = MIMEMultipart()\n",
    "  msg['From'] = 'Paliwo'\n",
    "  msg['To'] = 'faptribute987@gmail.com'\n",
    "  msg['Subject']= \"Price Fell Down\"\n",
    "  msg.attach(MIMEText(body, 'plain'))\n",
    "  \n",
    "  server.sendmail(\n",
    "    'sender@gmail.com',\n",
    "    'faptribute987@gmail.com',\n",
    "    msg.as_string()\n",
    "  )\n",
    "  #print a message to check if the email has been sent\n",
    "  print('Hey Email has been sent')\n",
    "  # quit the server\n",
    "  server.quit()\n",
    "\n",
    "#loop that allows the program to regularly check for prices\n",
    "\n",
    "#schedule.every().day.at(\"14:02\").do(check_price)\n",
    "\n",
    "#while (True):\n",
    "    #schedule.run_pending()\n",
    "    #time.sleep(1)\n",
    "\n"
   ]
  }
 ],
 "metadata": {
  "kernelspec": {
   "display_name": "Python 3.9.13 ('.venv': venv)",
   "language": "python",
   "name": "python3"
  },
  "language_info": {
   "codemirror_mode": {
    "name": "ipython",
    "version": 3
   },
   "file_extension": ".py",
   "mimetype": "text/x-python",
   "name": "python",
   "nbconvert_exporter": "python",
   "pygments_lexer": "ipython3",
   "version": "3.9.13"
  },
  "orig_nbformat": 4,
  "vscode": {
   "interpreter": {
    "hash": "04e622dbfbfb285aa247af57c7fe4a8c95897cfce30594f1fe379f0b91e885b0"
   }
  }
 },
 "nbformat": 4,
 "nbformat_minor": 2
}
