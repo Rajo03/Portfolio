{
 "cells": [
  {
   "cell_type": "code",
   "execution_count": null,
   "metadata": {},
   "outputs": [],
   "source": [
    "from bs4 import BeautifulSoup\n",
    "import requests\n",
    "import time\n",
    "import sys\n",
    " \n",
    "urls = []\n",
    "\n",
    "def scrape(site):\n",
    "    r = requests.get(site)\n",
    "    \n",
    "    \n",
    "    s = BeautifulSoup(r.text, \"html.parser\")\n",
    "    for i in s.find_all(\"a\"):\n",
    "        href = i.attrs['href']\n",
    "        if href.startswith(\"/\"):\n",
    "           site = site + href\n",
    "           if site not in urls:\n",
    "               urls.append(site)\n",
    "               print(site)\n",
    "               \n",
    "               scrape(site)\n",
    "               \n",
    "if __name__ ==\"__main__\":\n",
    "    site = \"https://www.amazon.pl//\"\n",
    "    scrape(site)"
   ]
  }
 ],
 "metadata": {
  "interpreter": {
   "hash": "3d03145d74df997051e71dedb63f68e34413f3c1a2544b770c89d2a56c840c20"
  },
  "kernelspec": {
   "display_name": "Python 3.10.4 64-bit",
   "language": "python",
   "name": "python3"
  },
  "language_info": {
   "codemirror_mode": {
    "name": "ipython",
    "version": 3
   },
   "file_extension": ".py",
   "mimetype": "text/x-python",
   "name": "python",
   "nbconvert_exporter": "python",
   "pygments_lexer": "ipython3",
   "version": "3.10.4"
  },
  "orig_nbformat": 4
 },
 "nbformat": 4,
 "nbformat_minor": 2
}
